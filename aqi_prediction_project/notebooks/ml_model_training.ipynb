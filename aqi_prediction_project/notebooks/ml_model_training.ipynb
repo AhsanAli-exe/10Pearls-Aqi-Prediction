{
 "cells": [
  {
   "cell_type": "code",
   "execution_count": 2,
   "id": "e448f75b",
   "metadata": {},
   "outputs": [],
   "source": [
    "import pandas as pd\n",
    "import numpy as np\n",
    "import matplotlib.pyplot as plt\n",
    "import seaborn as sns\n",
    "from sklearn.model_selection import train_test_split,cross_val_score,TimeSeriesSplit\n",
    "from sklearn.ensemble import RandomForestRegressor,GradientBoostingRegressor\n",
    "from sklearn.linear_model import Ridge,LinearRegression\n",
    "from sklearn.metrics import mean_squared_error,mean_absolute_error,r2_score\n",
    "from sklearn.preprocessing import StandardScaler\n",
    "import xgboost as xgb\n",
    "import lightgbm as lgb\n",
    "import torch\n",
    "import torch.nn as nn\n",
    "import torch.optim as optim\n",
    "from torch.utils.data import DataLoader,TensorDataset\n",
    "import shap\n",
    "import joblib\n",
    "import hopsworks\n",
    "import optuna\n",
    "import warnings\n",
    "warnings.filterwarnings('ignore')\n"
   ]
  },
  {
   "cell_type": "markdown",
   "id": "4b8e358c",
   "metadata": {},
   "source": [
    "### Connecting to Feature store and loading data"
   ]
  },
  {
   "cell_type": "code",
   "execution_count": 6,
   "id": "4177e569",
   "metadata": {},
   "outputs": [
    {
     "name": "stdout",
     "output_type": "stream",
     "text": [
      "2025-10-12 00:53:26,254 INFO: Closing external client and cleaning up certificates.\n",
      "Connection closed.\n",
      "2025-10-12 00:53:26,262 INFO: Initializing external client\n",
      "2025-10-12 00:53:26,264 INFO: Base URL: https://c.app.hopsworks.ai:443\n",
      "2025-10-12 00:53:29,722 INFO: Python Engine initialized.\n",
      "\n",
      "Logged in to project, explore it here https://c.app.hopsworks.ai:443/p/1257622\n",
      "Creating training dataset\n",
      "Training dataset job started successfully, you can follow the progress at \n",
      "http://c.app.hopsworks.ai/p/1257622/jobs/named/aqi_prediction_fv_1_create_fv_td_11102025195341/executions\n",
      "2025-10-12 00:54:07,810 INFO: Waiting for execution to finish. Current state: SUBMITTED. Final status: UNDEFINED\n",
      "2025-10-12 00:54:11,092 INFO: Waiting for execution to finish. Current state: RUNNING. Final status: UNDEFINED\n",
      "2025-10-12 00:55:27,887 INFO: Waiting for execution to finish. Current state: AGGREGATING_LOGS. Final status: SUCCEEDED\n",
      "2025-10-12 00:55:28,189 INFO: Waiting for log aggregation to finish.\n",
      "2025-10-12 00:55:37,291 INFO: Execution finished successfully.\n",
      "Training dataset created successfully! Version: 1\n",
      "2025-10-12 00:55:55,335 INFO: Provenance cached data - overwriting last accessed/created training dataset from 1 to 1.\n",
      "Training set shape: (7007, 37)\n",
      "Test set shape: (1777, 37)\n",
      "Number of features for training: 36\n"
     ]
    }
   ],
   "source": [
    "project = hopsworks.login(\n",
    "    project=\"aqi_prediction72\",\n",
    "    api_key_file=\"hopsworks.key\"\n",
    ")\n",
    "\n",
    "fs = project.get_feature_store()\n",
    "feature_view = fs.get_feature_view(\"aqi_prediction_fv\",version=1)\n",
    "\n",
    "print(\"Creating training dataset\")\n",
    "\n",
    "td_version,td_job = feature_view.create_train_test_split(\n",
    "    test_size=0.2,\n",
    "    random_state=42,\n",
    "    description=\"AQI Prediction Training dataset\"\n",
    ")\n",
    "print(f\"Training dataset created successfully! Version: {td_version}\")\n",
    "X_train,X_test,y_train,y_test = feature_view.get_train_test_split(\n",
    "training_dataset_version=1,\n",
    "test_size=0.2,\n",
    "random_state=42\n",
    ")\n",
    "\n",
    "\n",
    "print(f\"Training set shape: {X_train.shape}\")\n",
    "print(f\"Test set shape: {X_test.shape}\")\n",
    "\n",
    "feature_columns = [col for col in X_train.columns if col != 'timestamp']\n",
    "X_train_features = X_train[feature_columns]\n",
    "X_test_features = X_test[feature_columns]\n",
    "\n",
    "print(f\"Number of features for training: {len(feature_columns)}\")\n"
   ]
  },
  {
   "cell_type": "markdown",
   "id": "3687d681",
   "metadata": {},
   "source": [
    "### Preprocesssing Data"
   ]
  },
  {
   "cell_type": "code",
   "execution_count": 7,
   "id": "e8b568c4",
   "metadata": {},
   "outputs": [
    {
     "name": "stdout",
     "output_type": "stream",
     "text": [
      "Data Preprocessing Complete\n"
     ]
    }
   ],
   "source": [
    "X_train_clean = X_train_features.fillna(X_train_features.mean())\n",
    "X_test_clean = X_test_features.fillna(X_test_features.mean())\n",
    "\n",
    "scaler = StandardScaler()\n",
    "X_train_scaled = scaler.fit_transform(X_train_clean)\n",
    "X_test_scaled = scaler.transform(X_test_clean)\n",
    "\n",
    "print(\"Data Preprocessing Complete\")"
   ]
  },
  {
   "cell_type": "markdown",
   "id": "fa6f8ac5",
   "metadata": {},
   "source": [
    "### Model Eval Function"
   ]
  },
  {
   "cell_type": "code",
   "execution_count": 8,
   "id": "d0fdb754",
   "metadata": {},
   "outputs": [
    {
     "name": "stdout",
     "output_type": "stream",
     "text": [
      "Evaluation function ready\n"
     ]
    }
   ],
   "source": [
    "def evaluate_model(y_true,y_pred,model_name):\n",
    "    rmse = np.sqrt(mean_squared_error(y_true,y_pred))\n",
    "    mae = mean_absolute_error(y_true,y_pred)\n",
    "    r2 = r2_score(y_true,y_pred)\n",
    "    \n",
    "    print(f\"{model_name} Performance:\")\n",
    "    print(f\"RMSE: {rmse:.4f}\")\n",
    "    print(f\"MAE: {mae:.4f}\")\n",
    "    print(f\"R2 Score: {r2:.4f}\")\n",
    "    print(\"\\n\")\n",
    "    \n",
    "    return {'RMSE': rmse, 'MAE': mae, 'R2': r2}\n",
    "\n",
    "model_results = {}\n",
    "trained_models = {}\n",
    "\n",
    "print(\"Evaluation function ready\")\n",
    "    "
   ]
  },
  {
   "cell_type": "markdown",
   "id": "32570c1b",
   "metadata": {},
   "source": [
    "### Random Forest"
   ]
  },
  {
   "cell_type": "code",
   "execution_count": 9,
   "id": "bf803997",
   "metadata": {},
   "outputs": [
    {
     "name": "stdout",
     "output_type": "stream",
     "text": [
      "Random Forest Performance:\n",
      "RMSE: 0.5395\n",
      "MAE: 0.1394\n",
      "R2 Score: 1.0000\n",
      "\n",
      "\n",
      "Random Forest Training Complete\n"
     ]
    }
   ],
   "source": [
    "rf = RandomForestRegressor(\n",
    "    n_estimators=100,\n",
    "    max_depth = 15,\n",
    "    min_samples_split = 5,\n",
    "    min_samples_leaf = 2,\n",
    "    random_state = 42,\n",
    "    n_jobs = -1\n",
    ")\n",
    "\n",
    "\n",
    "rf.fit(X_train_clean,y_train)\n",
    "rf_predictions = rf.predict(X_test_clean)\n",
    "\n",
    "rf_results = evaluate_model(y_test,rf_predictions,\"Random Forest\")\n",
    "model_results['Random Forest'] = rf_results\n",
    "trained_models['Random Forest'] = rf\n",
    "\n",
    "print(\"Random Forest Training Complete\")"
   ]
  },
  {
   "cell_type": "markdown",
   "id": "c66a6ac2",
   "metadata": {},
   "source": [
    "### Ridge Regression"
   ]
  },
  {
   "cell_type": "code",
   "execution_count": 10,
   "id": "e5399559",
   "metadata": {},
   "outputs": [
    {
     "name": "stdout",
     "output_type": "stream",
     "text": [
      "Ridge Regression Performance:\n",
      "RMSE: 0.1722\n",
      "MAE: 0.0631\n",
      "R2 Score: 1.0000\n",
      "\n",
      "\n",
      "Ridge Regression Training Complete\n"
     ]
    }
   ],
   "source": [
    "ridge = Ridge(\n",
    "    alpha=1.0,\n",
    "    random_state=42\n",
    ")\n",
    "\n",
    "ridge.fit(X_train_scaled,y_train)\n",
    "ridge_predictions = ridge.predict(X_test_scaled)\n",
    "\n",
    "ridge_results = evaluate_model(y_test,ridge_predictions,\"Ridge Regression\")\n",
    "model_results['Ridge Regression'] = ridge_results\n",
    "trained_models['Ridge Regression'] = ridge\n",
    "\n",
    "print(\"Ridge Regression Training Complete\")"
   ]
  },
  {
   "cell_type": "markdown",
   "id": "7ae0897d",
   "metadata": {},
   "source": [
    "### XGBoost"
   ]
  },
  {
   "cell_type": "code",
   "execution_count": 11,
   "id": "e5b6652f",
   "metadata": {},
   "outputs": [
    {
     "name": "stdout",
     "output_type": "stream",
     "text": [
      "XGBoost Performance:\n",
      "RMSE: 1.0460\n",
      "MAE: 0.6862\n",
      "R2 Score: 0.9998\n",
      "\n",
      "\n",
      "XGBoost training completed\n"
     ]
    }
   ],
   "source": [
    "xgb = xgb.XGBRegressor(\n",
    "    n_estimators=100,\n",
    "    max_depth=6,\n",
    "    learning_rate=0.1,\n",
    "    subsample=0.8,\n",
    "    colsample_bytree=0.8,\n",
    "    random_state=42,\n",
    "    n_jobs=-1\n",
    ")\n",
    "\n",
    "xgb.fit(X_train_clean, y_train)\n",
    "xgb_predictions = xgb.predict(X_test_clean)\n",
    "xgb_results = evaluate_model(y_test,xgb_predictions,\"XGBoost\")\n",
    "model_results['XGBoost'] = xgb_results\n",
    "trained_models['XGBoost'] = xgb\n",
    "\n",
    "print(\"XGBoost training completed\")"
   ]
  },
  {
   "cell_type": "markdown",
   "id": "8348ddd2",
   "metadata": {},
   "source": [
    "### LightGBM"
   ]
  },
  {
   "cell_type": "code",
   "execution_count": 12,
   "id": "b31706fc",
   "metadata": {},
   "outputs": [
    {
     "name": "stdout",
     "output_type": "stream",
     "text": [
      "LightGBM Performance:\n",
      "RMSE: 1.0051\n",
      "MAE: 0.5392\n",
      "R2 Score: 0.9998\n",
      "\n",
      "\n",
      "LightGBM training completed\n"
     ]
    }
   ],
   "source": [
    "lgb = lgb.LGBMRegressor(\n",
    "    n_estimators=100,\n",
    "    max_depth=6,\n",
    "    learning_rate=0.1,\n",
    "    subsample=0.8,\n",
    "    colsample_bytree=0.8,\n",
    "    random_state=42,\n",
    "    n_jobs=-1,\n",
    "    verbose=-1\n",
    ")\n",
    "\n",
    "lgb.fit(X_train_clean,y_train)\n",
    "lgb_predictions = lgb.predict(X_test_clean)\n",
    "lgb_results = evaluate_model(y_test,lgb_predictions,\"LightGBM\")\n",
    "model_results['LightGBM'] = lgb_results\n",
    "trained_models['LightGBM'] = lgb\n",
    "\n",
    "print(\"LightGBM training completed\")"
   ]
  },
  {
   "cell_type": "markdown",
   "id": "89e68f1b",
   "metadata": {},
   "source": [
    "### Pytorch NN"
   ]
  },
  {
   "cell_type": "code",
   "execution_count": 16,
   "id": "0f882e39",
   "metadata": {},
   "outputs": [
    {
     "name": "stdout",
     "output_type": "stream",
     "text": [
      "Epoch [50/3000], Loss: 18047.1875\n",
      "Epoch [100/3000], Loss: 1347.5164\n",
      "Epoch [150/3000], Loss: 594.0336\n",
      "Epoch [200/3000], Loss: 460.1758\n",
      "Epoch [250/3000], Loss: 396.9123\n",
      "Epoch [300/3000], Loss: 363.8694\n",
      "Epoch [350/3000], Loss: 311.2989\n",
      "Epoch [400/3000], Loss: 295.2701\n",
      "Epoch [450/3000], Loss: 282.5766\n",
      "Epoch [500/3000], Loss: 275.1614\n",
      "Epoch [550/3000], Loss: 279.5903\n",
      "Epoch [600/3000], Loss: 261.7954\n",
      "Epoch [650/3000], Loss: 257.1230\n",
      "Epoch [700/3000], Loss: 245.2848\n",
      "Epoch [750/3000], Loss: 247.9601\n",
      "Epoch [800/3000], Loss: 242.3887\n",
      "Epoch [850/3000], Loss: 227.6247\n",
      "Epoch [900/3000], Loss: 231.5580\n",
      "Epoch [950/3000], Loss: 226.3195\n",
      "Epoch [1000/3000], Loss: 214.0875\n",
      "Epoch [1050/3000], Loss: 220.9717\n",
      "Epoch [1100/3000], Loss: 222.2612\n",
      "Epoch [1150/3000], Loss: 202.8146\n",
      "Epoch [1200/3000], Loss: 199.5316\n",
      "Epoch [1250/3000], Loss: 205.9327\n",
      "Epoch [1300/3000], Loss: 202.1492\n",
      "Epoch [1350/3000], Loss: 200.9254\n",
      "Epoch [1400/3000], Loss: 199.0991\n",
      "Epoch [1450/3000], Loss: 183.9133\n",
      "Epoch [1500/3000], Loss: 190.0952\n",
      "Epoch [1550/3000], Loss: 189.4137\n",
      "Epoch [1600/3000], Loss: 175.6917\n",
      "Epoch [1650/3000], Loss: 190.6820\n",
      "Epoch [1700/3000], Loss: 175.0296\n",
      "Epoch [1750/3000], Loss: 184.2237\n",
      "Epoch [1800/3000], Loss: 170.9167\n",
      "Epoch [1850/3000], Loss: 168.0649\n",
      "Epoch [1900/3000], Loss: 176.3412\n",
      "Epoch [1950/3000], Loss: 166.0601\n",
      "Epoch [2000/3000], Loss: 159.0708\n",
      "Epoch [2050/3000], Loss: 157.7104\n",
      "Epoch [2100/3000], Loss: 165.7797\n",
      "Epoch [2150/3000], Loss: 160.8113\n",
      "Epoch [2200/3000], Loss: 154.4552\n",
      "Epoch [2250/3000], Loss: 160.0242\n",
      "Epoch [2300/3000], Loss: 144.2814\n",
      "Epoch [2350/3000], Loss: 152.3755\n",
      "Epoch [2400/3000], Loss: 152.4598\n",
      "Epoch [2450/3000], Loss: 152.0554\n",
      "Epoch [2500/3000], Loss: 146.5155\n",
      "Epoch [2550/3000], Loss: 138.5026\n",
      "Epoch [2600/3000], Loss: 146.9346\n",
      "Epoch [2650/3000], Loss: 143.5070\n",
      "Epoch [2700/3000], Loss: 146.7001\n",
      "Epoch [2750/3000], Loss: 150.2556\n",
      "Epoch [2800/3000], Loss: 142.3013\n",
      "Epoch [2850/3000], Loss: 145.1256\n",
      "Epoch [2900/3000], Loss: 140.0807\n",
      "Epoch [2950/3000], Loss: 140.2028\n",
      "Epoch [3000/3000], Loss: 138.0260\n",
      "PyTorch Neural Network Performance:\n",
      "RMSE: 2.5940\n",
      "MAE: 1.8813\n",
      "R2 Score: 0.9989\n",
      "\n",
      "\n",
      "PyTorch Neural Network training completed\n"
     ]
    }
   ],
   "source": [
    "class AQIPredictor(nn.Module):\n",
    "    def __init__(self,input_size):\n",
    "        super(AQIPredictor,self).__init__()\n",
    "        self.fc1 = nn.Linear(input_size, 128)\n",
    "        self.fc2 = nn.Linear(128, 64)\n",
    "        self.fc3 = nn.Linear(64, 32)\n",
    "        self.fc4 = nn.Linear(32, 1)\n",
    "        self.dropout = nn.Dropout(0.2)\n",
    "        self.relu = nn.ReLU()\n",
    "    \n",
    "    def forward(self,x):\n",
    "        x = self.relu(self.fc1(x))\n",
    "        x = self.dropout(x)\n",
    "        x = self.relu(self.fc2(x))\n",
    "        x = self.dropout(x)\n",
    "        x = self.relu(self.fc3(x))\n",
    "        x = self.fc4(x)\n",
    "        return x\n",
    "    \n",
    "X_train_tensor = torch.FloatTensor(X_train_scaled)\n",
    "y_train_tensor = torch.FloatTensor(y_train.values.reshape(-1, 1))\n",
    "X_test_tensor = torch.FloatTensor(X_test_scaled)\n",
    "input_size = X_train_scaled.shape[1]\n",
    "pytorch_model = AQIPredictor(input_size)\n",
    "\n",
    "criterion = nn.MSELoss()\n",
    "optimizer = optim.Adam(pytorch_model.parameters(),lr=0.001)\n",
    "epochs = 3000\n",
    "pytorch_model.train()\n",
    "\n",
    "for epoch in range(epochs):\n",
    "    optimizer.zero_grad()\n",
    "    outputs = pytorch_model(X_train_tensor)\n",
    "    loss = criterion(outputs, y_train_tensor)\n",
    "    loss.backward()\n",
    "    optimizer.step()\n",
    "    \n",
    "    if (epoch + 1) % 50 == 0:\n",
    "        print(f'Epoch [{epoch+1}/{epochs}], Loss: {loss.item():.4f}')\n",
    "        \n",
    "pytorch_model.eval()\n",
    "with torch.no_grad():\n",
    "    pytorch_predictions = pytorch_model(X_test_tensor).numpy().flatten()\n",
    "pytorch_results = evaluate_model(y_test,pytorch_predictions,\"PyTorch Neural Network\")\n",
    "model_results['PyTorch Neural Network'] = pytorch_results\n",
    "trained_models['PyTorch Neural Network'] = pytorch_model\n",
    "\n",
    "print(\"PyTorch Neural Network training completed\")"
   ]
  },
  {
   "cell_type": "code",
   "execution_count": 17,
   "id": "7edecc3b",
   "metadata": {},
   "outputs": [
    {
     "name": "stdout",
     "output_type": "stream",
     "text": [
      "\n",
      "============================================================\n",
      "MODEL COMPARISON RESULTS\n",
      "============================================================\n",
      "                          RMSE     MAE      R2\n",
      "Random Forest           0.5395  0.1394  1.0000\n",
      "Ridge Regression        0.1722  0.0631  1.0000\n",
      "XGBoost                 1.0460  0.6862  0.9998\n",
      "LightGBM                1.0051  0.5392  0.9998\n",
      "PyTorch Neural Network  2.5940  1.8813  0.9989\n",
      "\n",
      "Best Models:\n",
      "Lowest RMSE: Ridge Regression (0.1722)\n",
      "Lowest MAE:  Ridge Regression (0.0631)\n",
      "Highest R2:  Random Forest (1.0000)\n",
      "\n",
      "Overall Best Model: Random Forest\n"
     ]
    }
   ],
   "source": [
    "# Compare all model results\n",
    "print(\"\\n\" + \"=\"*60)\n",
    "print(\"MODEL COMPARISON RESULTS\")\n",
    "print(\"=\"*60)\n",
    "\n",
    "# Create comparison DataFrame\n",
    "comparison_df = pd.DataFrame(model_results).T\n",
    "comparison_df = comparison_df.round(4)\n",
    "\n",
    "print(comparison_df)\n",
    "\n",
    "# Find best model for each metric\n",
    "best_rmse = comparison_df['RMSE'].min()\n",
    "best_mae = comparison_df['MAE'].min()\n",
    "best_r2 = comparison_df['R2'].max()\n",
    "\n",
    "best_rmse_model = comparison_df[comparison_df['RMSE'] == best_rmse].index[0]\n",
    "best_mae_model = comparison_df[comparison_df['MAE'] == best_mae].index[0]\n",
    "best_r2_model = comparison_df[comparison_df['R2'] == best_r2].index[0]\n",
    "\n",
    "print(f\"\\nBest Models:\")\n",
    "print(f\"Lowest RMSE: {best_rmse_model} ({best_rmse:.4f})\")\n",
    "print(f\"Lowest MAE:  {best_mae_model} ({best_mae:.4f})\")\n",
    "print(f\"Highest R2:  {best_r2_model} ({best_r2:.4f})\")\n",
    "\n",
    "# Overall best model (based on R2 score)\n",
    "overall_best_model = best_r2_model\n",
    "print(f\"\\nOverall Best Model: {overall_best_model}\")\n"
   ]
  },
  {
   "cell_type": "code",
   "execution_count": 18,
   "id": "62b5942e",
   "metadata": {},
   "outputs": [
    {
     "data": {
      "image/png": "[encoded data removed]",
      "text/plain": [
       "<Figure size 1500x500 with 3 Axes>"
      ]
     },
     "metadata": {},
     "output_type": "display_data"
    },
    {
     "name": "stdout",
     "output_type": "stream",
     "text": [
      "Model comparison visualization completed\n",
      "Best performing model: Random Forest\n"
     ]
    }
   ],
   "source": [
    "# Visualize model performance\n",
    "fig, axes = plt.subplots(1, 3, figsize=(15, 5))\n",
    "\n",
    "# RMSE comparison\n",
    "axes[0].bar(comparison_df.index, comparison_df['RMSE'], color='lightcoral')\n",
    "axes[0].set_title('RMSE Comparison (Lower is Better)')\n",
    "axes[0].set_ylabel('RMSE')\n",
    "axes[0].tick_params(axis='x', rotation=45)\n",
    "\n",
    "# MAE comparison\n",
    "axes[1].bar(comparison_df.index, comparison_df['MAE'], color='lightblue')\n",
    "axes[1].set_title('MAE Comparison (Lower is Better)')\n",
    "axes[1].set_ylabel('MAE')\n",
    "axes[1].tick_params(axis='x', rotation=45)\n",
    "\n",
    "# R2 comparison\n",
    "axes[2].bar(comparison_df.index, comparison_df['R2'], color='lightgreen')\n",
    "axes[2].set_title('R² Comparison (Higher is Better)')\n",
    "axes[2].set_ylabel('R² Score')\n",
    "axes[2].tick_params(axis='x', rotation=45)\n",
    "\n",
    "plt.tight_layout()\n",
    "plt.show()\n",
    "\n",
    "print(\"Model comparison visualization completed\")\n",
    "print(f\"Best performing model: {overall_best_model}\")"
   ]
  }
 ],
 "metadata": {
  "kernelspec": {
   "display_name": "base",
   "language": "python",
   "name": "python3"
  },
  "language_info": {
   "codemirror_mode": {
    "name": "ipython",
    "version": 3
   },
   "file_extension": ".py",
   "mimetype": "text/x-python",
   "name": "python",
   "nbconvert_exporter": "python",
   "pygments_lexer": "ipython3",
   "version": "3.11.7"
  }
 },
 "nbformat": 4,
 "nbformat_minor": 5
}
