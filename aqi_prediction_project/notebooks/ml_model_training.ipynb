{
 "cells": [
  {
   "cell_type": "code",
   "execution_count": 24,
   "id": "e448f75b",
   "metadata": {},
   "outputs": [],
   "source": [
    "import pandas as pd\n",
    "import numpy as np\n",
    "import matplotlib.pyplot as plt\n",
    "import seaborn as sns\n",
    "from sklearn.model_selection import train_test_split,cross_val_score,TimeSeriesSplit\n",
    "from sklearn.ensemble import RandomForestRegressor,GradientBoostingRegressor\n",
    "from sklearn.linear_model import Ridge,LinearRegression\n",
    "from sklearn.metrics import mean_squared_error,mean_absolute_error,r2_score\n",
    "from sklearn.preprocessing import StandardScaler\n",
    "import xgboost as xgb\n",
    "import lightgbm as lgb\n",
    "import torch\n",
    "import torch.nn as nn\n",
    "import torch.optim as optim\n",
    "from torch.utils.data import DataLoader,TensorDataset\n",
    "import shap\n",
    "import joblib\n",
    "import hopsworks\n",
    "import optuna\n",
    "import warnings\n",
    "warnings.filterwarnings('ignore')\n"
   ]
  },
  {
   "cell_type": "markdown",
   "id": "4b8e358c",
   "metadata": {},
   "source": [
    "### Connecting to Feature store and loading data"
   ]
  },
  {
   "cell_type": "code",
   "execution_count": 16,
   "id": "4177e569",
   "metadata": {},
   "outputs": [
    {
     "name": "stdout",
     "output_type": "stream",
     "text": [
      "2025-10-13 16:24:44,062 INFO: Closing external client and cleaning up certificates.\n",
      "Connection closed.\n",
      "2025-10-13 16:24:44,070 INFO: Initializing external client\n",
      "2025-10-13 16:24:44,072 INFO: Base URL: https://c.app.hopsworks.ai:443\n",
      "2025-10-13 16:24:47,102 INFO: Python Engine initialized.\n",
      "\n",
      "Logged in to project, explore it here https://c.app.hopsworks.ai:443/p/1257622\n",
      "FV OK: aqi_prediction_online 1\n",
      "Creating training dataset\n",
      "Training dataset job started successfully, you can follow the progress at \n",
      "http://c.app.hopsworks.ai/p/1257622/jobs/named/aqi_prediction_online_1_create_fv_td_13102025112503/executions\n",
      "2025-10-13 16:25:13,660 INFO: Waiting for execution to finish. Current state: SUBMITTED. Final status: UNDEFINED\n",
      "2025-10-13 16:25:16,938 INFO: Waiting for execution to finish. Current state: RUNNING. Final status: UNDEFINED\n",
      "2025-10-13 16:31:33,064 INFO: Waiting for execution to finish. Current state: AGGREGATING_LOGS. Final status: SUCCEEDED\n",
      "2025-10-13 16:31:33,371 INFO: Waiting for log aggregation to finish.\n",
      "2025-10-13 16:31:53,728 INFO: Execution finished successfully.\n",
      "Training dataset created successfully! Version: 1\n",
      "2025-10-13 16:37:56,083 INFO: Provenance cached data - overwriting last accessed/created training dataset from 1 to 1.\n",
      "Training set shape: (6955, 38)\n",
      "Test set shape: (1806, 38)\n"
     ]
    }
   ],
   "source": [
    "project = hopsworks.login(\n",
    "    project=\"aqi_prediction72\",\n",
    "    api_key_file=\"hopsworks.key\"\n",
    ")\n",
    "\n",
    "fs = project.get_feature_store()\n",
    "feature_view = fs.get_feature_view(\"aqi_prediction_online\",version=1)\n",
    "print(\"FV OK:\", feature_view.name, feature_view.version)\n",
    "\n",
    "print(\"Creating training dataset\")\n",
    "\n",
    "td_version,td_job = feature_view.create_train_test_split(\n",
    "    test_size=0.2,\n",
    "    random_state=42,\n",
    "    description=\"AQI Prediction Training dataset\"\n",
    ")\n",
    "print(f\"Training dataset created successfully! Version: {td_version}\")\n",
    "X_train,X_test,y_train,y_test = feature_view.get_train_test_split(\n",
    "training_dataset_version=td_version,\n",
    "test_size=0.2,\n",
    "random_state=42\n",
    ")\n",
    "\n",
    "\n",
    "print(f\"Training set shape: {X_train.shape}\")\n",
    "print(f\"Test set shape: {X_test.shape}\")\n"
   ]
  },
  {
   "cell_type": "markdown",
   "id": "3687d681",
   "metadata": {},
   "source": [
    "### Preprocesssing Data"
   ]
  },
  {
   "cell_type": "code",
   "execution_count": 18,
   "id": "e8b568c4",
   "metadata": {},
   "outputs": [
    {
     "name": "stdout",
     "output_type": "stream",
     "text": [
      "Data Preprocessing Complete\n"
     ]
    }
   ],
   "source": [
    "drop_cols = [c for c in ['timestamp','aqi','ts_epoch_ms'] if c in X_train.columns]\n",
    "feature_columns = [c for c in X_train.columns if c not in drop_cols]\n",
    "\n",
    "X_train_features = X_train[feature_columns].copy()\n",
    "X_test_features  = X_test[feature_columns].copy()\n",
    "\n",
    "#Handling NaNs\n",
    "X_train_clean = X_train_features.fillna(X_train_features.mean(numeric_only=True))\n",
    "X_test_clean  = X_test_features.fillna(X_test_features.mean(numeric_only=True))\n",
    "\n",
    "scaler = StandardScaler()\n",
    "X_train_scaled = scaler.fit_transform(X_train_clean)\n",
    "X_test_scaled = scaler.transform(X_test_clean)\n",
    "\n",
    "print(\"Data Preprocessing Complete\")"
   ]
  },
  {
   "cell_type": "markdown",
   "id": "fa6f8ac5",
   "metadata": {},
   "source": [
    "### Model Eval Function"
   ]
  },
  {
   "cell_type": "code",
   "execution_count": 19,
   "id": "d0fdb754",
   "metadata": {},
   "outputs": [
    {
     "name": "stdout",
     "output_type": "stream",
     "text": [
      "Evaluation function ready\n"
     ]
    }
   ],
   "source": [
    "def evaluate_model(y_true,y_pred,model_name):\n",
    "    rmse = np.sqrt(mean_squared_error(y_true,y_pred))\n",
    "    mae = mean_absolute_error(y_true,y_pred)\n",
    "    r2 = r2_score(y_true,y_pred)\n",
    "    \n",
    "    print(f\"{model_name} Performance:\")\n",
    "    print(f\"RMSE: {rmse:.4f}\")\n",
    "    print(f\"MAE: {mae:.4f}\")\n",
    "    print(f\"R2 Score: {r2:.4f}\")\n",
    "    print(\"\\n\")\n",
    "    \n",
    "    return {'RMSE': rmse, 'MAE': mae, 'R2': r2}\n",
    "\n",
    "model_results = {}\n",
    "trained_models = {}\n",
    "\n",
    "print(\"Evaluation function ready\")\n",
    "    "
   ]
  },
  {
   "cell_type": "markdown",
   "id": "32570c1b",
   "metadata": {},
   "source": [
    "### Random Forest"
   ]
  },
  {
   "cell_type": "code",
   "execution_count": 20,
   "id": "bf803997",
   "metadata": {},
   "outputs": [
    {
     "name": "stdout",
     "output_type": "stream",
     "text": [
      "Random Forest Performance:\n",
      "RMSE: 0.7766\n",
      "MAE: 0.1348\n",
      "R2 Score: 0.9999\n",
      "\n",
      "\n",
      "Random Forest Training Complete\n"
     ]
    }
   ],
   "source": [
    "rf = RandomForestRegressor(\n",
    "    n_estimators=100,\n",
    "    max_depth = 15,\n",
    "    min_samples_split = 5,\n",
    "    min_samples_leaf = 2,\n",
    "    random_state = 42,\n",
    "    n_jobs = -1\n",
    ")\n",
    "\n",
    "\n",
    "rf.fit(X_train_clean,y_train)\n",
    "rf_predictions = rf.predict(X_test_clean)\n",
    "\n",
    "rf_results = evaluate_model(y_test,rf_predictions,\"Random Forest\")\n",
    "model_results['Random Forest'] = rf_results\n",
    "trained_models['Random Forest'] = rf\n",
    "\n",
    "print(\"Random Forest Training Complete\")"
   ]
  },
  {
   "cell_type": "markdown",
   "id": "c66a6ac2",
   "metadata": {},
   "source": [
    "### Ridge Regression"
   ]
  },
  {
   "cell_type": "code",
   "execution_count": 21,
   "id": "e5399559",
   "metadata": {},
   "outputs": [
    {
     "name": "stdout",
     "output_type": "stream",
     "text": [
      "Ridge Regression Performance:\n",
      "RMSE: 0.0334\n",
      "MAE: 0.0190\n",
      "R2 Score: 1.0000\n",
      "\n",
      "\n",
      "Ridge Regression Training Complete\n"
     ]
    }
   ],
   "source": [
    "ridge = Ridge(\n",
    "    alpha=1.0,\n",
    "    random_state=42\n",
    ")\n",
    "\n",
    "ridge.fit(X_train_scaled,y_train)\n",
    "ridge_predictions = ridge.predict(X_test_scaled)\n",
    "\n",
    "ridge_results = evaluate_model(y_test,ridge_predictions,\"Ridge Regression\")\n",
    "model_results['Ridge Regression'] = ridge_results\n",
    "trained_models['Ridge Regression'] = ridge\n",
    "\n",
    "print(\"Ridge Regression Training Complete\")"
   ]
  },
  {
   "cell_type": "markdown",
   "id": "7ae0897d",
   "metadata": {},
   "source": [
    "### XGBoost"
   ]
  },
  {
   "cell_type": "code",
   "execution_count": 25,
   "id": "e5b6652f",
   "metadata": {},
   "outputs": [
    {
     "name": "stdout",
     "output_type": "stream",
     "text": [
      "XGBoost Performance:\n",
      "RMSE: 1.0574\n",
      "MAE: 0.6710\n",
      "R2 Score: 0.9998\n",
      "\n",
      "\n",
      "XGBoost training completed\n"
     ]
    }
   ],
   "source": [
    "xgb = xgb.XGBRegressor(\n",
    "    n_estimators=100,\n",
    "    max_depth=6,\n",
    "    learning_rate=0.1,\n",
    "    subsample=0.8,\n",
    "    colsample_bytree=0.8,\n",
    "    random_state=42,\n",
    "    n_jobs=-1\n",
    ")\n",
    "\n",
    "xgb.fit(X_train_clean, y_train)\n",
    "xgb_predictions = xgb.predict(X_test_clean)\n",
    "xgb_results = evaluate_model(y_test,xgb_predictions,\"XGBoost\")\n",
    "model_results['XGBoost'] = xgb_results\n",
    "trained_models['XGBoost'] = xgb\n",
    "\n",
    "print(\"XGBoost training completed\")"
   ]
  },
  {
   "cell_type": "markdown",
   "id": "8348ddd2",
   "metadata": {},
   "source": [
    "### LightGBM"
   ]
  },
  {
   "cell_type": "code",
   "execution_count": 26,
   "id": "b31706fc",
   "metadata": {},
   "outputs": [
    {
     "name": "stdout",
     "output_type": "stream",
     "text": [
      "LightGBM Performance:\n",
      "RMSE: 1.1256\n",
      "MAE: 0.5668\n",
      "R2 Score: 0.9998\n",
      "\n",
      "\n",
      "LightGBM training completed\n"
     ]
    }
   ],
   "source": [
    "lgb = lgb.LGBMRegressor(\n",
    "    n_estimators=100,\n",
    "    max_depth=6,\n",
    "    learning_rate=0.1,\n",
    "    subsample=0.8,\n",
    "    colsample_bytree=0.8,\n",
    "    random_state=42,\n",
    "    n_jobs=-1,\n",
    "    verbose=-1\n",
    ")\n",
    "\n",
    "lgb.fit(X_train_clean,y_train)\n",
    "lgb_predictions = lgb.predict(X_test_clean)\n",
    "lgb_results = evaluate_model(y_test,lgb_predictions,\"LightGBM\")\n",
    "model_results['LightGBM'] = lgb_results\n",
    "trained_models['LightGBM'] = lgb\n",
    "\n",
    "print(\"LightGBM training completed\")"
   ]
  },
  {
   "cell_type": "markdown",
   "id": "89e68f1b",
   "metadata": {},
   "source": [
    "### Pytorch NN"
   ]
  },
  {
   "cell_type": "code",
   "execution_count": 27,
   "id": "0f882e39",
   "metadata": {},
   "outputs": [
    {
     "name": "stdout",
     "output_type": "stream",
     "text": [
      "Epoch [50/1000], Loss: 20752.2852\n",
      "Epoch [100/1000], Loss: 2086.4358\n",
      "Epoch [150/1000], Loss: 753.7938\n",
      "Epoch [200/1000], Loss: 520.9980\n",
      "Epoch [250/1000], Loss: 434.3670\n",
      "Epoch [300/1000], Loss: 413.3794\n",
      "Epoch [350/1000], Loss: 368.1371\n",
      "Epoch [400/1000], Loss: 338.0363\n",
      "Epoch [450/1000], Loss: 328.3641\n",
      "Epoch [500/1000], Loss: 310.8354\n",
      "Epoch [550/1000], Loss: 296.4078\n",
      "Epoch [600/1000], Loss: 279.0268\n",
      "Epoch [650/1000], Loss: 260.9237\n",
      "Epoch [700/1000], Loss: 259.6609\n",
      "Epoch [750/1000], Loss: 250.8658\n",
      "Epoch [800/1000], Loss: 260.0706\n",
      "Epoch [850/1000], Loss: 249.1973\n",
      "Epoch [900/1000], Loss: 232.3753\n",
      "Epoch [950/1000], Loss: 229.2100\n",
      "Epoch [1000/1000], Loss: 237.6593\n",
      "PyTorch Neural Network Performance:\n",
      "RMSE: 6.6811\n",
      "MAE: 5.1048\n",
      "R2 Score: 0.9925\n",
      "\n",
      "\n",
      "PyTorch Neural Network training completed\n"
     ]
    }
   ],
   "source": [
    "class AQIPredictor(nn.Module):\n",
    "    def __init__(self,input_size):\n",
    "        super(AQIPredictor,self).__init__()\n",
    "        self.fc1 = nn.Linear(input_size, 128)\n",
    "        self.fc2 = nn.Linear(128, 64)\n",
    "        self.fc3 = nn.Linear(64, 32)\n",
    "        self.fc4 = nn.Linear(32, 1)\n",
    "        self.dropout = nn.Dropout(0.2)\n",
    "        self.relu = nn.ReLU()\n",
    "    \n",
    "    def forward(self,x):\n",
    "        x = self.relu(self.fc1(x))\n",
    "        x = self.dropout(x)\n",
    "        x = self.relu(self.fc2(x))\n",
    "        x = self.dropout(x)\n",
    "        x = self.relu(self.fc3(x))\n",
    "        x = self.fc4(x)\n",
    "        return x\n",
    "    \n",
    "X_train_tensor = torch.FloatTensor(X_train_scaled)\n",
    "y_train_tensor = torch.FloatTensor(y_train.values.reshape(-1, 1))\n",
    "X_test_tensor = torch.FloatTensor(X_test_scaled)\n",
    "input_size = X_train_scaled.shape[1]\n",
    "pytorch_model = AQIPredictor(input_size)\n",
    "\n",
    "criterion = nn.MSELoss()\n",
    "optimizer = optim.Adam(pytorch_model.parameters(),lr=0.001)\n",
    "epochs = 1000\n",
    "pytorch_model.train()\n",
    "\n",
    "for epoch in range(epochs):\n",
    "    optimizer.zero_grad()\n",
    "    outputs = pytorch_model(X_train_tensor)\n",
    "    loss = criterion(outputs, y_train_tensor)\n",
    "    loss.backward()\n",
    "    optimizer.step()\n",
    "    \n",
    "    if (epoch + 1) % 50 == 0:\n",
    "        print(f'Epoch [{epoch+1}/{epochs}], Loss: {loss.item():.4f}')\n",
    "        \n",
    "pytorch_model.eval()\n",
    "with torch.no_grad():\n",
    "    pytorch_predictions = pytorch_model(X_test_tensor).numpy().flatten()\n",
    "pytorch_results = evaluate_model(y_test,pytorch_predictions,\"PyTorch Neural Network\")\n",
    "model_results['PyTorch Neural Network'] = pytorch_results\n",
    "trained_models['PyTorch Neural Network'] = pytorch_model\n",
    "\n",
    "print(\"PyTorch Neural Network training completed\")"
   ]
  },
  {
   "cell_type": "markdown",
   "id": "9cb3e15b",
   "metadata": {},
   "source": [
    "### Results"
   ]
  },
  {
   "cell_type": "code",
   "execution_count": 28,
   "id": "7edecc3b",
   "metadata": {},
   "outputs": [
    {
     "name": "stdout",
     "output_type": "stream",
     "text": [
      "                          RMSE     MAE      R2\n",
      "Random Forest           0.7766  0.1348  0.9999\n",
      "Ridge Regression        0.0334  0.0190  1.0000\n",
      "XGBoost                 1.0574  0.6710  0.9998\n",
      "LightGBM                1.1256  0.5668  0.9998\n",
      "PyTorch Neural Network  6.6811  5.1048  0.9925\n",
      "\n",
      "Best Models:\n",
      "Lowest RMSE: Ridge Regression (0.0334)\n",
      "Lowest MAE:  Ridge Regression (0.0190)\n",
      "Highest R2:  Ridge Regression (1.0000)\n",
      "Model comparison saved to models/model_comparison.csv\n"
     ]
    }
   ],
   "source": [
    "comparison_df = pd.DataFrame(model_results).T\n",
    "comparison_df = comparison_df.round(4)\n",
    "\n",
    "print(comparison_df)\n",
    "\n",
    "best_rmse = comparison_df['RMSE'].min()\n",
    "best_mae = comparison_df['MAE'].min()\n",
    "best_r2 = comparison_df['R2'].max()\n",
    "\n",
    "best_rmse_model = comparison_df[comparison_df['RMSE'] == best_rmse].index[0]\n",
    "best_mae_model = comparison_df[comparison_df['MAE'] == best_mae].index[0]\n",
    "best_r2_model = comparison_df[comparison_df['R2'] == best_r2].index[0]\n",
    "\n",
    "print(f\"\\nBest Models:\")\n",
    "print(f\"Lowest RMSE: {best_rmse_model} ({best_rmse:.4f})\")\n",
    "print(f\"Lowest MAE:  {best_mae_model} ({best_mae:.4f})\")\n",
    "print(f\"Highest R2:  {best_r2_model} ({best_r2:.4f})\")\n",
    "\n",
    "comparison_df.to_csv('../models/model_comparison.csv')\n",
    "print(f\"Model comparison saved to models/model_comparison.csv\")\n",
    "\n"
   ]
  },
  {
   "cell_type": "code",
   "execution_count": 29,
   "id": "62b5942e",
   "metadata": {},
   "outputs": [
    {
     "data": {
      "image/png": "[encoded data removed]",
      "text/plain": [
       "<Figure size 1500x500 with 3 Axes>"
      ]
     },
     "metadata": {},
     "output_type": "display_data"
    },
    {
     "name": "stdout",
     "output_type": "stream",
     "text": [
      "Model comparison visualization completed\n"
     ]
    }
   ],
   "source": [
    "\n",
    "fig,axes = plt.subplots(1,3,figsize=(15,5))\n",
    "\n",
    "axes[0].bar(comparison_df.index,comparison_df['RMSE'],color='lightcoral')\n",
    "axes[0].set_title('RMSE Comparison (Lower is Better)')\n",
    "axes[0].set_ylabel('RMSE')\n",
    "axes[0].tick_params(axis='x',rotation=45)\n",
    "axes[1].bar(comparison_df.index,comparison_df['MAE'],color='lightblue')\n",
    "axes[1].set_title('MAE Comparison (Lower is Better)')\n",
    "axes[1].set_ylabel('MAE')\n",
    "axes[1].tick_params(axis='x',rotation=45)\n",
    "axes[2].bar(comparison_df.index,comparison_df['R2'],color='lightgreen')\n",
    "axes[2].set_title('R² Comparison (Higher is Better)')\n",
    "axes[2].set_ylabel('R² Score')\n",
    "axes[2].tick_params(axis='x',rotation=45)\n",
    "\n",
    "plt.tight_layout()\n",
    "plt.show()\n",
    "\n",
    "print(\"Model comparison visualization completed\")"
   ]
  },
  {
   "cell_type": "markdown",
   "id": "9ea8607e",
   "metadata": {},
   "source": [
    "### Saving best model to Hopsworks Model Registry"
   ]
  },
  {
   "cell_type": "code",
   "execution_count": 30,
   "id": "b85301d0",
   "metadata": {},
   "outputs": [
    {
     "name": "stdout",
     "output_type": "stream",
     "text": [
      "Best model saved locally\n"
     ]
    },
    {
     "data": {
      "application/vnd.jupyter.widget-view+json": {
       "model_id": "b6108bea3ac947e3b27394fe9728a7e8",
       "version_major": 2,
       "version_minor": 0
      },
      "text/plain": [
       "  0%|          | 0/6 [00:00<?, ?it/s]"
      ]
     },
     "metadata": {},
     "output_type": "display_data"
    },
    {
     "data": {
      "application/vnd.jupyter.widget-view+json": {
       "model_id": "d8ccb8fcd66b45658d69b76b36d3b4c5",
       "version_major": 2,
       "version_minor": 0
      },
      "text/plain": [
       "Uploading e:\\10Pearls\\aqi_prediction_project\\notebooks\\../models/model_comparison.csv: 0.000%|          | 0/19…"
      ]
     },
     "metadata": {},
     "output_type": "display_data"
    },
    {
     "data": {
      "application/vnd.jupyter.widget-view+json": {
       "model_id": "348440436f194d5687e8e86098b846d7",
       "version_major": 2,
       "version_minor": 0
      },
      "text/plain": [
       "Uploading e:\\10Pearls\\aqi_prediction_project\\notebooks\\../models/ridge_regression_best.pkl: 0.000%|          |…"
      ]
     },
     "metadata": {},
     "output_type": "display_data"
    },
    {
     "data": {
      "application/vnd.jupyter.widget-view+json": {
       "model_id": "dc776dd557f44315811ecadd22d544f7",
       "version_major": 2,
       "version_minor": 0
      },
      "text/plain": [
       "Uploading e:\\10Pearls\\aqi_prediction_project\\notebooks\\../models/scaler.pkl: 0.000%|          | 0/2375 elapsed…"
      ]
     },
     "metadata": {},
     "output_type": "display_data"
    },
    {
     "name": "stdout",
     "output_type": "stream",
     "text": [
      "Model created, explore it at https://c.app.hopsworks.ai:443/p/1257622/models/aqi_ridge_regression/3\n",
      "Model saved to Hopsworks Model Registry\n",
      "Best model: Ridge Regression\n",
      "RMSE: 0.0334\n",
      "MAE: 0.0190\n",
      "R2: 1.0000\n"
     ]
    }
   ],
   "source": [
    "mr = project.get_model_registry()\n",
    "\n",
    "best_model = trained_models['Ridge Regression']\n",
    "joblib.dump(best_model,'../models/ridge_regression_best.pkl')\n",
    "joblib.dump(scaler,\"../models/scaler.pkl\")\n",
    "print(\"Best model saved locally\")\n",
    "\n",
    "try:\n",
    "    ridge_model_registry = mr.sklearn.create_model(\n",
    "        name = \"aqi_ridge_regression\",\n",
    "        version = 3,\n",
    "        description = \"Best Performing AQI Prediction Model - Ridge Regression\"\n",
    "    )\n",
    "    ridge_model_registry.save(\"../models\")\n",
    "    print(\"Model saved to Hopsworks Model Registry\")\n",
    "except Exception as e:\n",
    "    print(f\"Error saving model to Hopsworks Model Registry: {e}\")\n",
    "    \n",
    "print(f\"Best model: Ridge Regression\")\n",
    "print(f\"RMSE: {ridge_results['RMSE']:.4f}\")\n",
    "print(f\"MAE: {ridge_results['MAE']:.4f}\")\n",
    "print(f\"R2: {ridge_results['R2']:.4f}\")"
   ]
  }
 ],
 "metadata": {
  "kernelspec": {
   "display_name": "base",
   "language": "python",
   "name": "python3"
  },
  "language_info": {
   "codemirror_mode": {
    "name": "ipython",
    "version": 3
   },
   "file_extension": ".py",
   "mimetype": "text/x-python",
   "name": "python",
   "nbconvert_exporter": "python",
   "pygments_lexer": "ipython3",
   "version": "3.11.7"
  }
 },
 "nbformat": 4,
 "nbformat_minor": 5
}
